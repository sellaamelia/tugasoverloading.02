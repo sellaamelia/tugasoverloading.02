{
  "nbformat": 4,
  "nbformat_minor": 0,
  "metadata": {
    "colab": {
      "provenance": [],
      "include_colab_link": true
    },
    "kernelspec": {
      "name": "python3",
      "display_name": "Python 3"
    },
    "language_info": {
      "name": "python"
    }
  },
  "cells": [
    {
      "cell_type": "markdown",
      "metadata": {
        "id": "view-in-github",
        "colab_type": "text"
      },
      "source": [
        "<a href=\"https://colab.research.google.com/github/sellaamelia/tugasoverloading.02/blob/main/Copy_of_Tugas_Overloading_2.ipynb\" target=\"_parent\"><img src=\"https://colab.research.google.com/assets/colab-badge.svg\" alt=\"Open In Colab\"/></a>"
      ]
    },
    {
      "cell_type": "code",
      "execution_count": 1,
      "metadata": {
        "id": "5zCytCeM1uD4"
      },
      "outputs": [],
      "source": [
        "#class Nama\n",
        "class nama:\n",
        "  def gabung(self, nama_depan, nama_tengah, nama_akhir):\n",
        "    p = nama_depan + nama_tengah + nama_akhir\n",
        "    print(p)\n",
        "\n",
        "#Buat fungsi yang digunakan untuk mengabungkan nama dengan ketentuan nama depan, nama tengah, nama akhir, dan seterusnya dianggap 1 (satu) parameter\n",
        "  def gabung(self, *args):\n",
        "        if (len(args) <= 4):\n",
        "            sum = ''\n",
        "            for num in args:\n",
        "                sum += num\n",
        "            print(sum)\n",
        "        else:\n",
        "            print(\"Maksimum 4 argumen\")"
      ]
    },
    {
      "cell_type": "code",
      "source": [
        "#Buat main program\n",
        "hasil = nama()\n",
        "#Panggil fungsi untuk membuat nama lengkap 4 nama teman kalian\n",
        "hasil.gabung(\"selvi \" , \"april \" , \"lia\")\n",
        "hasil.gabung(\"dinda \" , \"putri\")\n",
        "hasil.gabung(\"sherliya \" , \"bia\")\n",
        "hasil.gabung(\"davina \" , \"eka\")"
      ],
      "metadata": {
        "id": "liQBcJWZ12MN",
        "colab": {
          "base_uri": "https://localhost:8080/"
        },
        "outputId": "deea2806-ec29-4568-afa7-43eb62d2aa7a"
      },
      "execution_count": 2,
      "outputs": [
        {
          "output_type": "stream",
          "name": "stdout",
          "text": [
            "selvi april lia\n",
            "dinda putri\n",
            "sherliya bia\n",
            "davina eka\n"
          ]
        }
      ]
    },
    {
      "cell_type": "code",
      "source": [
        "#Tulisakan kesimpulan dari materi Overloading menurut pemahaman anda!\n",
        " #jadi sebuah kelas dapat memiliki beberapa method dengan nama yang sama tetapi dengan parameter yang berbeda dan dapat di batasi"
      ],
      "metadata": {
        "id": "xwFmppIG3JGE"
      },
      "execution_count": 3,
      "outputs": []
    }
  ]
}